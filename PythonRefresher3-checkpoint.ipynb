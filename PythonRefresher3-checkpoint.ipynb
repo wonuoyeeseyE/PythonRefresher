{
 "cells": [
  {
   "cell_type": "markdown",
   "id": "f35d1a3b-7eeb-40b0-8c50-7e3328edf553",
   "metadata": {},
   "source": [
    "# III. Control flow: If/Else, Try/Except and Loops"
   ]
  },
  {
   "cell_type": "markdown",
   "id": "95812cf3-1093-4adf-8d3e-4e71b1293911",
   "metadata": {},
   "source": [
    "### If/Else"
   ]
  },
  {
   "cell_type": "markdown",
   "id": "ae631966-0f38-4e5d-b833-e43128fc968a",
   "metadata": {},
   "source": [
    "#### Linear Flow"
   ]
  },
  {
   "cell_type": "code",
   "execution_count": 3,
   "id": "bf6fece4-e9c5-43af-8928-fa2aca163720",
   "metadata": {},
   "outputs": [],
   "source": [
    "stock_price = 100\n",
    "stock_buy = False"
   ]
  },
  {
   "cell_type": "code",
   "execution_count": 4,
   "id": "2844de9f-4c88-4523-9e2d-a3b5c35b6ee1",
   "metadata": {},
   "outputs": [],
   "source": [
    "def buy():\n",
    "    print(\"Stock Bought\")"
   ]
  },
  {
   "cell_type": "markdown",
   "id": "5579dfac-2052-4c86-a1ae-882e1e68913e",
   "metadata": {},
   "source": [
    "## If/Else Statements"
   ]
  },
  {
   "cell_type": "markdown",
   "id": "17d584ec-4adb-47ed-abf7-fd5f54f85a10",
   "metadata": {},
   "source": [
    "If"
   ]
  },
  {
   "cell_type": "markdown",
   "id": "5d4d4c6d-89a2-42b6-9ada-b850474732c0",
   "metadata": {},
   "source": [
    "Elif"
   ]
  },
  {
   "cell_type": "markdown",
   "id": "17a2f3b0-042e-418b-b5c0-1c107f22d2ef",
   "metadata": {},
   "source": [
    "Else"
   ]
  },
  {
   "cell_type": "markdown",
   "id": "b8fbd2a3-f249-43a1-846c-1428f6014d89",
   "metadata": {},
   "source": [
    "## Conditional Statements"
   ]
  },
  {
   "cell_type": "code",
   "execution_count": 8,
   "id": "fa093b17-7908-48c5-a745-fa3656e62ec7",
   "metadata": {},
   "outputs": [
    {
     "name": "stdout",
     "output_type": "stream",
     "text": [
      "Stock Bought\n"
     ]
    }
   ],
   "source": [
    "stock_price = 90\n",
    "\n",
    "if (stock_price <= 90):\n",
    "    buy()"
   ]
  },
  {
   "cell_type": "code",
   "execution_count": 9,
   "id": "8e43c52b-af98-4b74-b56a-7940520b2b48",
   "metadata": {},
   "outputs": [],
   "source": [
    "def sell():\n",
    "    print(\"Stock Sold\")"
   ]
  },
  {
   "cell_type": "code",
   "execution_count": 14,
   "id": "6f11aa23-831d-4960-8475-993914b02926",
   "metadata": {},
   "outputs": [
    {
     "name": "stdout",
     "output_type": "stream",
     "text": [
      "Stock Sold\n"
     ]
    }
   ],
   "source": [
    "stock_price = 91\n",
    "\n",
    "if (stock_price <= 90):\n",
    "    buy()\n",
    "elif (stock_price > 90):\n",
    "    sell()"
   ]
  },
  {
   "cell_type": "markdown",
   "id": "fce71822-f621-42d4-b264-02a6b7ab0336",
   "metadata": {},
   "source": [
    "Noting: If we use 'elif' instead of two 'if statements in a row, we only get one output vses:"
   ]
  },
  {
   "cell_type": "code",
   "execution_count": 15,
   "id": "4b226cad-b6f7-4ab5-8b90-7f84cc805214",
   "metadata": {},
   "outputs": [],
   "source": [
    "stock_a = 200"
   ]
  },
  {
   "cell_type": "code",
   "execution_count": 16,
   "id": "36f893cc-ff2c-4a82-9dff-6bda6873e5f9",
   "metadata": {},
   "outputs": [],
   "source": [
    "stock_b = 300"
   ]
  },
  {
   "cell_type": "code",
   "execution_count": 18,
   "id": "29364f30-ab5d-402a-9b38-ece5930a8904",
   "metadata": {},
   "outputs": [
    {
     "name": "stdout",
     "output_type": "stream",
     "text": [
      "Stock Bought\n",
      "Stock Sold\n"
     ]
    }
   ],
   "source": [
    "if stock_a >= 200:\n",
    "    buy()\n",
    "if stock_b >= 300:\n",
    "    sell()"
   ]
  },
  {
   "cell_type": "markdown",
   "id": "49654ed4-d6d7-4ffc-92ba-3b22c3464c79",
   "metadata": {},
   "source": [
    "We get two outputs here with two 'if' statements."
   ]
  },
  {
   "cell_type": "code",
   "execution_count": null,
   "id": "f210c8ac-81b6-45a5-ba5d-78845aab9ccd",
   "metadata": {},
   "outputs": [],
   "source": []
  },
  {
   "cell_type": "markdown",
   "id": "f2658c63-f071-4d65-82de-2708e5108190",
   "metadata": {},
   "source": [
    "Example of stock hold vs buy or sell"
   ]
  },
  {
   "cell_type": "code",
   "execution_count": 19,
   "id": "4d2d175c-a64d-4574-ac10-5c2033e7ea53",
   "metadata": {},
   "outputs": [],
   "source": [
    "def hold():\n",
    "    print(\"Stock Hold\")"
   ]
  },
  {
   "cell_type": "code",
   "execution_count": 25,
   "id": "0a49b22b-6044-4da5-acba-db90d631a52e",
   "metadata": {},
   "outputs": [
    {
     "name": "stdout",
     "output_type": "stream",
     "text": [
      "Stock Sold\n"
     ]
    }
   ],
   "source": [
    "if (stock_price <= 90):\n",
    "    buy()\n",
    "elif (stock_price < 100):\n",
    "    sell()\n",
    "else:\n",
    "    hold()"
   ]
  },
  {
   "cell_type": "code",
   "execution_count": 26,
   "id": "2f2c3a0e-2bc8-4d30-a2b1-b8baa6916350",
   "metadata": {},
   "outputs": [],
   "source": [
    "stock_price = 101"
   ]
  },
  {
   "cell_type": "code",
   "execution_count": 27,
   "id": "ab683eca-8429-4f31-80eb-641583a9b2d1",
   "metadata": {},
   "outputs": [
    {
     "name": "stdout",
     "output_type": "stream",
     "text": [
      "Stock Hold\n"
     ]
    }
   ],
   "source": [
    "if (stock_price <= 90):\n",
    "    buy()\n",
    "elif (stock_price < 100):\n",
    "    sell()\n",
    "else:\n",
    "    hold()"
   ]
  },
  {
   "cell_type": "code",
   "execution_count": 28,
   "id": "330a236d-ce7f-4b89-8801-84f73d7c8c2e",
   "metadata": {},
   "outputs": [
    {
     "data": {
      "text/plain": [
       "True"
      ]
     },
     "execution_count": 28,
     "metadata": {},
     "output_type": "execute_result"
    }
   ],
   "source": [
    "stock_a >= 200"
   ]
  },
  {
   "cell_type": "code",
   "execution_count": 29,
   "id": "4724182b-5269-40f9-9a2c-261ef34dda1c",
   "metadata": {},
   "outputs": [
    {
     "data": {
      "text/plain": [
       "False"
      ]
     },
     "execution_count": 29,
     "metadata": {},
     "output_type": "execute_result"
    }
   ],
   "source": [
    "stock_a > 201"
   ]
  },
  {
   "cell_type": "markdown",
   "id": "f31e843a-c86a-4b12-8bb9-9f779260f78d",
   "metadata": {},
   "source": [
    "## More If conditions"
   ]
  },
  {
   "cell_type": "code",
   "execution_count": 57,
   "id": "af778a7d-8603-4e90-9b28-dc4052a74a86",
   "metadata": {},
   "outputs": [],
   "source": [
    "stock_a = 150"
   ]
  },
  {
   "cell_type": "code",
   "execution_count": 63,
   "id": "03bb0d9a-a5e4-442a-bc81-92f145b22700",
   "metadata": {},
   "outputs": [],
   "source": [
    "stock_b = 250"
   ]
  },
  {
   "cell_type": "code",
   "execution_count": 38,
   "id": "8bdee448-5894-4fad-8166-7bfb592494bf",
   "metadata": {},
   "outputs": [
    {
     "name": "stdout",
     "output_type": "stream",
     "text": [
      "Stock Bought\n"
     ]
    }
   ],
   "source": [
    "# looking at truth values here to execute\n",
    "\n",
    "if (stock_a >= 100) or (stock_b <= 200):\n",
    "    buy()"
   ]
  },
  {
   "cell_type": "markdown",
   "id": "fb59a67c-5ff3-4460-b50f-7a0af3e77cf2",
   "metadata": {},
   "source": [
    "When we say 'or' only one condition must be met"
   ]
  },
  {
   "cell_type": "code",
   "execution_count": 39,
   "id": "1830f7cf-05ad-4de5-848f-f1826fd7d61b",
   "metadata": {},
   "outputs": [],
   "source": [
    "if (stock_a >= 100) and (stock_b <= 200):\n",
    "    buy()"
   ]
  },
  {
   "cell_type": "markdown",
   "id": "05baa719-d3a4-4e24-831d-54b8ec148e70",
   "metadata": {},
   "source": [
    "Because both conditions are not met when using 'and' there is no output."
   ]
  },
  {
   "cell_type": "code",
   "execution_count": 40,
   "id": "c089ff7e-b9c7-4965-b1b3-9e675a26a028",
   "metadata": {},
   "outputs": [
    {
     "name": "stdout",
     "output_type": "stream",
     "text": [
      "Stock Sold\n"
     ]
    }
   ],
   "source": [
    "if (stock_a >= 100) and (stock_b < 100):\n",
    "    buy()\n",
    "elif (stock_b >= 100):\n",
    "    sell()"
   ]
  },
  {
   "cell_type": "markdown",
   "id": "a22799cf-38c9-45b3-86d5-06c4dc2fea5b",
   "metadata": {},
   "source": [
    "## Nested Conditional Statements"
   ]
  },
  {
   "cell_type": "code",
   "execution_count": 41,
   "id": "d7a445ca-d1df-4811-8a6c-ce13dd14fe2c",
   "metadata": {},
   "outputs": [
    {
     "name": "stdout",
     "output_type": "stream",
     "text": [
      "Stock Bought\n"
     ]
    }
   ],
   "source": [
    "if (stock_a == 200):\n",
    "    if (stock_b == 300):\n",
    "        buy()"
   ]
  },
  {
   "cell_type": "markdown",
   "id": "dae23c50-9c39-463a-9b07-79deedb8364d",
   "metadata": {},
   "source": [
    "Technically we don't need to nest these, eg:"
   ]
  },
  {
   "cell_type": "code",
   "execution_count": 43,
   "id": "1d5cc3c6-797b-43fb-8dbe-b53bea36f456",
   "metadata": {},
   "outputs": [
    {
     "name": "stdout",
     "output_type": "stream",
     "text": [
      "Stock Bought\n"
     ]
    }
   ],
   "source": [
    "if (stock_a == 200) and (stock_b == 300):\n",
    "    buy()"
   ]
  },
  {
   "cell_type": "code",
   "execution_count": null,
   "id": "b98c685a-7a6e-457c-bfe3-27cf0bc3b2a1",
   "metadata": {},
   "outputs": [],
   "source": []
  },
  {
   "cell_type": "markdown",
   "id": "b97bbe37-9649-4735-953f-8cb4f79cba94",
   "metadata": {},
   "source": [
    "Heres an example where we should actually nest:"
   ]
  },
  {
   "cell_type": "code",
   "execution_count": 59,
   "id": "b65e4ae1-a741-4050-898f-8ce02940302b",
   "metadata": {},
   "outputs": [
    {
     "name": "stdout",
     "output_type": "stream",
     "text": [
      "Stock Bought\n"
     ]
    }
   ],
   "source": [
    "if (stock_a > 100 ):\n",
    "    if (stock_b > 300):\n",
    "        sell()\n",
    "    elif (stock_a == 200) and (stock_b == 300):\n",
    "        hold()\n",
    "    else: \n",
    "        (stock_a < 200) and (stock_b < 300)\n",
    "        buy()\n",
    "        "
   ]
  },
  {
   "cell_type": "code",
   "execution_count": null,
   "id": "ad353cbd-d1e7-40e5-91d3-07ab61098ca5",
   "metadata": {},
   "outputs": [],
   "source": []
  },
  {
   "cell_type": "markdown",
   "id": "4a664661-6450-4215-97b9-a3245e98a620",
   "metadata": {},
   "source": [
    "Further Nested examples:"
   ]
  },
  {
   "cell_type": "code",
   "execution_count": 71,
   "id": "d2119a19-c36c-4420-bd43-fed53415f227",
   "metadata": {},
   "outputs": [
    {
     "name": "stdout",
     "output_type": "stream",
     "text": [
      "Stock Hold\n"
     ]
    }
   ],
   "source": [
    "# you do NOT need a condition for 'else' statements, as it will trigger regardless if its the only option in that 'If' block.\n",
    "\n",
    "if (stock_a != 150 ):\n",
    "    if (stock_b > 300):\n",
    "        sell()\n",
    "    elif (stock_a == 200) and (stock_b == 300):\n",
    "        hold()\n",
    "    else: \n",
    "        buy()\n",
    "elif (stock_a == 150):\n",
    "    hold()"
   ]
  },
  {
   "cell_type": "markdown",
   "id": "226bd368-c6b2-4f45-9523-f1141b7eb7f4",
   "metadata": {},
   "source": [
    "## Combining with Functions "
   ]
  },
  {
   "cell_type": "code",
   "execution_count": 74,
   "id": "269fd994-4501-4674-978c-1372b03f3a48",
   "metadata": {},
   "outputs": [],
   "source": [
    "stock_price2 = 95"
   ]
  },
  {
   "cell_type": "code",
   "execution_count": 78,
   "id": "522db73d-26a1-4ae6-9769-8879cbdcc090",
   "metadata": {},
   "outputs": [],
   "source": [
    "def trading_system(a_stock_price):\n",
    "    if (stock_price2 > 110):\n",
    "        sell()\n",
    "    elif(stock_price2 < 90):\n",
    "        buy()\n",
    "    else:\n",
    "        hold()"
   ]
  },
  {
   "cell_type": "code",
   "execution_count": 73,
   "id": "82e967e6-b085-4a64-b1d1-bca0fe54c84e",
   "metadata": {},
   "outputs": [
    {
     "name": "stdout",
     "output_type": "stream",
     "text": [
      "Stock Hold\n"
     ]
    }
   ],
   "source": [
    "trading_system(stock_price)"
   ]
  },
  {
   "cell_type": "code",
   "execution_count": 76,
   "id": "67b9c6d3-a4df-4656-8742-a82ffb65b5c1",
   "metadata": {},
   "outputs": [
    {
     "name": "stdout",
     "output_type": "stream",
     "text": [
      "Stock Hold\n"
     ]
    }
   ],
   "source": [
    "trading_system (105)"
   ]
  },
  {
   "cell_type": "code",
   "execution_count": 77,
   "id": "dcfe711c-4a7d-4ad1-a211-e43c51af9713",
   "metadata": {},
   "outputs": [
    {
     "name": "stdout",
     "output_type": "stream",
     "text": [
      "Stock Sold\n"
     ]
    }
   ],
   "source": [
    "trading_system(111)"
   ]
  },
  {
   "cell_type": "code",
   "execution_count": null,
   "id": "859e2242-3f0f-4fc1-ad3d-907762bb04d0",
   "metadata": {},
   "outputs": [],
   "source": []
  }
 ],
 "metadata": {
  "kernelspec": {
   "display_name": "Python 3 (ipykernel)",
   "language": "python",
   "name": "python3"
  },
  "language_info": {
   "codemirror_mode": {
    "name": "ipython",
    "version": 3
   },
   "file_extension": ".py",
   "mimetype": "text/x-python",
   "name": "python",
   "nbconvert_exporter": "python",
   "pygments_lexer": "ipython3",
   "version": "3.13.3"
  }
 },
 "nbformat": 4,
 "nbformat_minor": 5
}
