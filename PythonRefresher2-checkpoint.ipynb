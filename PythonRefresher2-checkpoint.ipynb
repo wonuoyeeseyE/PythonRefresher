{
 "cells": [
  {
   "cell_type": "markdown",
   "id": "d48eb656-1416-4dca-8d5c-01df0c02e6bd",
   "metadata": {},
   "source": [
    "## II. Variables, Functions, and Basic Syntax"
   ]
  },
  {
   "cell_type": "markdown",
   "id": "9ca3ccf3-5ba0-4f2c-8248-a2c0df5b369e",
   "metadata": {},
   "source": [
    "### Functions/Syntax"
   ]
  },
  {
   "cell_type": "markdown",
   "id": "0a7c11e3-7871-45f2-a39f-5677eb55b82f",
   "metadata": {},
   "source": [
    "#### Basic Syntax"
   ]
  },
  {
   "cell_type": "code",
   "execution_count": 1,
   "id": "598c4d00-a86d-4ca5-a66b-c9988847487d",
   "metadata": {},
   "outputs": [],
   "source": [
    "stock_price = 100.55"
   ]
  },
  {
   "cell_type": "markdown",
   "id": "4e9f008a-bb59-433d-b2e6-6aa31b6ac285",
   "metadata": {},
   "source": [
    "can make multiple values in a single cell (noting they will execute in a linear fashion):"
   ]
  },
  {
   "cell_type": "code",
   "execution_count": 4,
   "id": "12991a2f-c460-4f7f-8b66-e595a7c775e0",
   "metadata": {},
   "outputs": [
    {
     "name": "stdout",
     "output_type": "stream",
     "text": [
      "100.55\n"
     ]
    }
   ],
   "source": [
    "print(stock_price)\n",
    "stock_ticker = \"AMZN\"\n",
    "stock_buy = True"
   ]
  },
  {
   "cell_type": "code",
   "execution_count": 5,
   "id": "a769ef5f-4090-4e7f-8a71-d3d568ee4742",
   "metadata": {},
   "outputs": [
    {
     "name": "stdout",
     "output_type": "stream",
     "text": [
      "AMZN\n"
     ]
    }
   ],
   "source": [
    "print(stock_ticker)"
   ]
  },
  {
   "cell_type": "markdown",
   "id": "c8cea612-fa4f-40da-ad98-3c4c5a5d8986",
   "metadata": {},
   "source": [
    "etcetc, see how we can group all of them into a cell using jupyter, instead of just having one cell per value."
   ]
  },
  {
   "cell_type": "code",
   "execution_count": 6,
   "id": "38b84389-088f-4863-8900-bcb8ace8cbd4",
   "metadata": {},
   "outputs": [
    {
     "data": {
      "text/plain": [
       "float"
      ]
     },
     "execution_count": 6,
     "metadata": {},
     "output_type": "execute_result"
    }
   ],
   "source": [
    "type(stock_price)"
   ]
  },
  {
   "cell_type": "code",
   "execution_count": 12,
   "id": "457beb2d-4f34-428e-bb4a-f8f214d9c283",
   "metadata": {},
   "outputs": [
    {
     "name": "stdin",
     "output_type": "stream",
     "text": [
      "hello my name is:  5.0\n"
     ]
    },
    {
     "data": {
      "text/plain": [
       "5.0"
      ]
     },
     "execution_count": 12,
     "metadata": {},
     "output_type": "execute_result"
    }
   ],
   "source": [
    "float(input(\"hello my name is: \")) "
   ]
  },
  {
   "cell_type": "markdown",
   "id": "b4ba324f-6144-4c99-a469-ad67bc92f351",
   "metadata": {},
   "source": [
    "This is an input function wrapped in float(), which means the user must enter a number that can be converted to a float. The program will throw an error if a non-numeric input is given.\"\n"
   ]
  },
  {
   "cell_type": "markdown",
   "id": "a0094923-f011-4dc6-bfa6-55e9faae43d1",
   "metadata": {},
   "source": [
    "So heres an example using stock_price:"
   ]
  },
  {
   "cell_type": "code",
   "execution_count": 36,
   "id": "95b13137-1501-4512-b5b9-af0a8e692260",
   "metadata": {},
   "outputs": [
    {
     "name": "stdin",
     "output_type": "stream",
     "text": [
      "Tell me the number of 10 / 2, and I'll give you the stock price:  5\n"
     ]
    },
    {
     "name": "stdout",
     "output_type": "stream",
     "text": [
      "100.55\n"
     ]
    }
   ],
   "source": [
    "evans_input = str(input(\"Tell me the number of 10 / 2, and I'll give you the stock price: \"))\n",
    "\n",
    "if evans_input == str(5):\n",
    "    print(stock_price)\n",
    "    "
   ]
  },
  {
   "cell_type": "markdown",
   "id": "6293e8c7-b25f-4ea5-8a71-d94b6a2257cc",
   "metadata": {},
   "source": [
    "**So some key points:** When making the if condition, I was originally asking for *evans_input* which technically was 5 but I didnt realize the original evans_input was a *string,* and not an *integer,* so to make it work i can either swap the input to a int or swap the if statement to a string, and in this case i swapped the if statement to a string.\n"
   ]
  },
  {
   "cell_type": "markdown",
   "id": "81bc4fa0-563c-43b0-a6bd-975a8c85c9b9",
   "metadata": {},
   "source": [
    "*Heres the other version using an int:*"
   ]
  },
  {
   "cell_type": "code",
   "execution_count": 35,
   "id": "dc340608-2ca0-4d8c-af45-afba173156c4",
   "metadata": {},
   "outputs": [
    {
     "name": "stdin",
     "output_type": "stream",
     "text": [
      "Tell me your name, and I'll give you the stock price:  5\n"
     ]
    },
    {
     "name": "stdout",
     "output_type": "stream",
     "text": [
      "100.55\n"
     ]
    }
   ],
   "source": [
    "evans_input = int(input(\"Tell me the number of 10 / 2, and I'll give you the stock price: \"))\n",
    "\n",
    "if evans_input == (5):\n",
    "    print(stock_price)\n",
    "    "
   ]
  },
  {
   "cell_type": "markdown",
   "id": "59821ec2-f733-4c05-971b-7e20471158ee",
   "metadata": {},
   "source": [
    "**--> click this cell to see.**\n",
    "    *italic* or _italic_\titalic or italic\n",
    "Bold\t**bold** or __bold__\tbold or bold\n",
    "Both\t***bold italic***\tbold italic\n",
    "Code\t`inline code`\tinline  --> some syntax for making the commented cells pop a bit more --> click this cell to see.\n"
   ]
  },
  {
   "cell_type": "code",
   "execution_count": 38,
   "id": "b5c632a8-7338-438e-9de5-07217c892c7a",
   "metadata": {},
   "outputs": [],
   "source": [
    "stock_price = 100\n",
    "stock_price # --> normall this would output to the console, but because we put stock_ticker after, thats the last iteration.\n",
    "stock_ticker = \"GOOG\""
   ]
  },
  {
   "cell_type": "code",
   "execution_count": 41,
   "id": "b10d9c1f-c587-4277-96c3-f67db06126b6",
   "metadata": {},
   "outputs": [
    {
     "data": {
      "text/plain": [
       "100"
      ]
     },
     "execution_count": 41,
     "metadata": {},
     "output_type": "execute_result"
    }
   ],
   "source": [
    "stock_price # example of it being the last iteration."
   ]
  },
  {
   "cell_type": "code",
   "execution_count": 43,
   "id": "414e29d3-3a65-40d8-abd6-ae3304c17b85",
   "metadata": {},
   "outputs": [],
   "source": [
    "stock_prices = [100, 101, 102]"
   ]
  },
  {
   "cell_type": "code",
   "execution_count": 44,
   "id": "3de92678-40d8-4680-9ce6-9b33bfd4c780",
   "metadata": {},
   "outputs": [],
   "source": [
    "stock_prices.append(103)"
   ]
  },
  {
   "cell_type": "code",
   "execution_count": 45,
   "id": "ea063b58-d78e-4e98-8617-a0e164b1ca91",
   "metadata": {},
   "outputs": [
    {
     "data": {
      "text/plain": [
       "[100, 101, 102, 103]"
      ]
     },
     "execution_count": 45,
     "metadata": {},
     "output_type": "execute_result"
    }
   ],
   "source": [
    "stock_prices"
   ]
  },
  {
   "cell_type": "markdown",
   "id": "95f6f3d3-cb77-4a85-9660-30041f2d226c",
   "metadata": {},
   "source": [
    "Notice we added 103 using the .append() **function** — .append() is a built-in list *method*, which acts like a **function** that modifies the list by adding an item to the end."
   ]
  },
  {
   "cell_type": "markdown",
   "id": "f4703ae2-daa2-47f9-bc29-31819401debd",
   "metadata": {},
   "source": [
    "## **Creating Functions**"
   ]
  },
  {
   "cell_type": "code",
   "execution_count": 46,
   "id": "104fb088-bd4e-4cee-accb-a65468bbdd2a",
   "metadata": {},
   "outputs": [
    {
     "data": {
      "text/plain": [
       "10000"
      ]
     },
     "execution_count": 46,
     "metadata": {},
     "output_type": "execute_result"
    }
   ],
   "source": [
    "stock_price **2"
   ]
  },
  {
   "cell_type": "markdown",
   "id": "0bd4b52a-91ee-4dc7-b16f-eb9b4543b078",
   "metadata": {},
   "source": [
    "which is just 100 to the power of 2."
   ]
  },
  {
   "cell_type": "markdown",
   "id": "31b65366-c891-47bc-a31d-f996d655e4ba",
   "metadata": {},
   "source": [
    "**Heres how we define a function:**"
   ]
  },
  {
   "cell_type": "code",
   "execution_count": 48,
   "id": "ac1d06cd-10bd-4a78-901a-e1e343f9e53f",
   "metadata": {},
   "outputs": [],
   "source": [
    "def square(value_to_square):\n",
    "    return value_to_square ** 2 ## this means, the function passed any value, will be squared."
   ]
  },
  {
   "cell_type": "code",
   "execution_count": 49,
   "id": "65f456ba-f721-4dbb-a661-3280bef426fe",
   "metadata": {},
   "outputs": [
    {
     "data": {
      "text/plain": [
       "10000"
      ]
     },
     "execution_count": 49,
     "metadata": {},
     "output_type": "execute_result"
    }
   ],
   "source": [
    "square(stock_price)"
   ]
  },
  {
   "cell_type": "code",
   "execution_count": 52,
   "id": "9cb27c97-301f-4784-985e-403d948ce844",
   "metadata": {},
   "outputs": [
    {
     "data": {
      "text/plain": [
       "100"
      ]
     },
     "execution_count": 52,
     "metadata": {},
     "output_type": "execute_result"
    }
   ],
   "source": [
    "square(10)"
   ]
  },
  {
   "cell_type": "code",
   "execution_count": 53,
   "id": "203d5aaa-8108-4fb7-8a5e-42427768edc6",
   "metadata": {},
   "outputs": [
    {
     "data": {
      "text/plain": [
       "2500000000"
      ]
     },
     "execution_count": 53,
     "metadata": {},
     "output_type": "execute_result"
    }
   ],
   "source": [
    "square(50000)"
   ]
  },
  {
   "cell_type": "markdown",
   "id": "3558b468-f526-4c3d-a96a-0e656611d80d",
   "metadata": {},
   "source": [
    "etcetc, the function is not just restricted to defined variables as we can see above."
   ]
  },
  {
   "cell_type": "code",
   "execution_count": 54,
   "id": "e1577a60-016e-42ec-9427-d119b5c023a9",
   "metadata": {},
   "outputs": [],
   "source": [
    "bid = 100\n",
    "ask = 101"
   ]
  },
  {
   "cell_type": "code",
   "execution_count": 62,
   "id": "fc3aa30e-2e37-4eeb-8e8f-793d183f42d1",
   "metadata": {},
   "outputs": [],
   "source": [
    "# note these don't refer to the above varaibles, theyre arbitrary parameters. These could be as simple as (x,y)\n",
    "def spread(bid, ask):\n",
    "   s = abs(bid - ask)\n",
    "   return s\n",
    "\n",
    "# this gives us the absolute value of the bid and ask value. (therefore the value will always be positive)\n",
    "# also note 's' will not be accessible outside of this function spread (local variable to this function, is uses it then throws it away)"
   ]
  },
  {
   "cell_type": "code",
   "execution_count": 63,
   "id": "f4e643d7-900d-4978-93cd-35ce2b59e6a5",
   "metadata": {},
   "outputs": [
    {
     "data": {
      "text/plain": [
       "1"
      ]
     },
     "execution_count": 63,
     "metadata": {},
     "output_type": "execute_result"
    }
   ],
   "source": [
    "spread(bid, ask)"
   ]
  },
  {
   "cell_type": "code",
   "execution_count": 66,
   "id": "f3917e4f-3115-4867-b3cd-e6e6b51d188b",
   "metadata": {},
   "outputs": [
    {
     "data": {
      "text/plain": [
       "10"
      ]
     },
     "execution_count": 66,
     "metadata": {},
     "output_type": "execute_result"
    }
   ],
   "source": [
    "spread(17,7)"
   ]
  },
  {
   "cell_type": "markdown",
   "id": "3aab7574-032e-4772-8c04-47550c92fd4f",
   "metadata": {},
   "source": [
    "Notice, as I said prior, we can even plug in a undefined variable, and get some output of the parameter bid - ask or \"arbitrarily\" x - y of some ABSOLUTE value."
   ]
  },
  {
   "cell_type": "code",
   "execution_count": 72,
   "id": "59812de1-7385-4641-b199-5e235cb64475",
   "metadata": {},
   "outputs": [],
   "source": [
    "# here is another function\n",
    "def custom_operation(value): \n",
    "    return (value ** 2)/10"
   ]
  },
  {
   "cell_type": "code",
   "execution_count": 69,
   "id": "a32c3646-f4ad-4e7c-9fd5-b07d79a8f3e9",
   "metadata": {},
   "outputs": [
    {
     "data": {
      "text/plain": [
       "10.0"
      ]
     },
     "execution_count": 69,
     "metadata": {},
     "output_type": "execute_result"
    }
   ],
   "source": [
    "custom_operation(10)"
   ]
  },
  {
   "cell_type": "code",
   "execution_count": 71,
   "id": "66fbeb4c-0b3d-4eda-9592-a91d1689206b",
   "metadata": {},
   "outputs": [
    {
     "data": {
      "text/plain": [
       "2250.0"
      ]
     },
     "execution_count": 71,
     "metadata": {},
     "output_type": "execute_result"
    }
   ],
   "source": [
    "custom_operation(150)"
   ]
  },
  {
   "cell_type": "code",
   "execution_count": 73,
   "id": "2371ce8a-a9cd-4322-ad09-474b3151511c",
   "metadata": {},
   "outputs": [],
   "source": [
    "bid_ask_spread = spread(bid,ask)"
   ]
  },
  {
   "cell_type": "code",
   "execution_count": 74,
   "id": "9cd2f0f7-048d-4f5c-bf2e-3facdcde229e",
   "metadata": {},
   "outputs": [
    {
     "name": "stdout",
     "output_type": "stream",
     "text": [
      "1\n"
     ]
    }
   ],
   "source": [
    "print(bid_ask_spread)"
   ]
  },
  {
   "cell_type": "markdown",
   "id": "218a7914-9a3a-4903-a44f-2667966a54bd",
   "metadata": {},
   "source": [
    "Above we just assigned a *variable* to the output of the *function* spread(bid, ask), this will be useful moving forward."
   ]
  },
  {
   "cell_type": "markdown",
   "id": "e0d2cdc2-4967-4fb7-aa51-63e000f4c216",
   "metadata": {},
   "source": [
    "## **Functions with Unlimited Parameters**"
   ]
  },
  {
   "cell_type": "code",
   "execution_count": 76,
   "id": "c172fa77-b21d-476e-804f-51090b32f3b7",
   "metadata": {},
   "outputs": [],
   "source": [
    "def unlimited(*args):\n",
    "     return args"
   ]
  },
  {
   "cell_type": "code",
   "execution_count": 77,
   "id": "1ddb052f-f309-4ec2-b8cd-fbeaa45d2d7a",
   "metadata": {},
   "outputs": [
    {
     "data": {
      "text/plain": [
       "(1, 'APPL', 1000.5)"
      ]
     },
     "execution_count": 77,
     "metadata": {},
     "output_type": "execute_result"
    }
   ],
   "source": [
    "unlimited(1, \"APPL\", 1000.5)"
   ]
  },
  {
   "cell_type": "code",
   "execution_count": 79,
   "id": "d491c5fe-ce16-45f6-bc9f-649c94b362cf",
   "metadata": {},
   "outputs": [
    {
     "data": {
      "text/plain": [
       "tuple"
      ]
     },
     "execution_count": 79,
     "metadata": {},
     "output_type": "execute_result"
    }
   ],
   "source": [
    "type(unlimited(1, \"APPL\", 1000.5))"
   ]
  },
  {
   "cell_type": "markdown",
   "id": "5460923a-7051-4caa-b260-2f9d6fe09541",
   "metadata": {},
   "source": [
    "## **Functions Intrinsic to Variables/Objects**"
   ]
  },
  {
   "cell_type": "code",
   "execution_count": 80,
   "id": "ec703313-bf31-4ddd-bb80-177a22136f96",
   "metadata": {},
   "outputs": [],
   "source": [
    "list_1 = [1, 2, 3]"
   ]
  },
  {
   "cell_type": "code",
   "execution_count": 81,
   "id": "22742aba-71b7-4061-afec-a5a959cfb9a3",
   "metadata": {},
   "outputs": [
    {
     "data": {
      "text/plain": [
       "list"
      ]
     },
     "execution_count": 81,
     "metadata": {},
     "output_type": "execute_result"
    }
   ],
   "source": [
    "type(list_1)"
   ]
  },
  {
   "cell_type": "code",
   "execution_count": 82,
   "id": "c36fa92a-f994-42fa-9c69-2c8e9c043360",
   "metadata": {},
   "outputs": [],
   "source": [
    "list_1.append(4)"
   ]
  },
  {
   "cell_type": "code",
   "execution_count": 83,
   "id": "a8336000-6a30-43dc-90f4-5f2ab53f3266",
   "metadata": {},
   "outputs": [
    {
     "name": "stdout",
     "output_type": "stream",
     "text": [
      "[1, 2, 3, 4]\n"
     ]
    }
   ],
   "source": [
    "print(list_1)"
   ]
  },
  {
   "cell_type": "code",
   "execution_count": 84,
   "id": "7024e629-f9c9-4045-83ee-4502fd8e25b0",
   "metadata": {},
   "outputs": [],
   "source": [
    "set_1 = set(list_1)"
   ]
  },
  {
   "cell_type": "code",
   "execution_count": 85,
   "id": "8e095f8e-85a8-4b26-acd4-1617156de95f",
   "metadata": {},
   "outputs": [
    {
     "data": {
      "text/plain": [
       "set"
      ]
     },
     "execution_count": 85,
     "metadata": {},
     "output_type": "execute_result"
    }
   ],
   "source": [
    "type(set_1)"
   ]
  },
  {
   "cell_type": "code",
   "execution_count": 86,
   "id": "42dd10d3-88a9-46ea-a88e-db6599bb8d7e",
   "metadata": {},
   "outputs": [],
   "source": [
    "set_2 = set([1, 2, 5, 6])"
   ]
  },
  {
   "cell_type": "code",
   "execution_count": 87,
   "id": "53dc03f1-0a39-4d6c-9b78-223bbece1d3f",
   "metadata": {},
   "outputs": [
    {
     "data": {
      "text/plain": [
       "{1, 2}"
      ]
     },
     "execution_count": 87,
     "metadata": {},
     "output_type": "execute_result"
    }
   ],
   "source": [
    "set_1.intersection(set_2)"
   ]
  },
  {
   "cell_type": "code",
   "execution_count": 94,
   "id": "33cff3db-8395-4180-b842-f7e5910d8064",
   "metadata": {},
   "outputs": [],
   "source": [
    "list_2 = [2, 3, 5, 6]"
   ]
  },
  {
   "cell_type": "code",
   "execution_count": 96,
   "id": "933bd69b-09f5-49db-8d42-e94b106d3253",
   "metadata": {},
   "outputs": [],
   "source": [
    "set_3 = set(list_2)"
   ]
  },
  {
   "cell_type": "code",
   "execution_count": 97,
   "id": "56e2de24-e7be-4002-b7a2-6184ecf91b51",
   "metadata": {},
   "outputs": [
    {
     "data": {
      "text/plain": [
       "set"
      ]
     },
     "execution_count": 97,
     "metadata": {},
     "output_type": "execute_result"
    }
   ],
   "source": [
    "type(set_3)"
   ]
  },
  {
   "cell_type": "code",
   "execution_count": 99,
   "id": "5d7026de-5a33-4de0-993f-1c09701d8b55",
   "metadata": {},
   "outputs": [
    {
     "data": {
      "text/plain": [
       "{2, 3}"
      ]
     },
     "execution_count": 99,
     "metadata": {},
     "output_type": "execute_result"
    }
   ],
   "source": [
    "set_1.intersection(set_3)"
   ]
  },
  {
   "cell_type": "markdown",
   "id": "f81cb2c6-3c8c-4f8a-b98f-1789bf424350",
   "metadata": {},
   "source": [
    "Noting: **Sets** can use the function call *intersection* where as **lists** cannot. This is why we assign the Sets to the set(list_1) etc.."
   ]
  },
  {
   "cell_type": "code",
   "execution_count": null,
   "id": "74be016e-e60f-4716-95bc-96d06b7c7ec3",
   "metadata": {},
   "outputs": [],
   "source": []
  },
  {
   "cell_type": "code",
   "execution_count": null,
   "id": "c6a01e0d-1176-4770-8409-b6a7571527b2",
   "metadata": {},
   "outputs": [],
   "source": []
  },
  {
   "cell_type": "code",
   "execution_count": 101,
   "id": "b5b23c94-8256-49eb-a395-9cf3b612e1fd",
   "metadata": {},
   "outputs": [
    {
     "data": {
      "text/plain": [
       "'C:\\\\Users\\\\PC\\\\PythonWithRoman'"
      ]
     },
     "execution_count": 101,
     "metadata": {},
     "output_type": "execute_result"
    }
   ],
   "source": [
    "import os\n",
    "os.getcwd()"
   ]
  },
  {
   "cell_type": "code",
   "execution_count": null,
   "id": "6913c02e-e4ca-43cf-b4df-8d30c0c85a29",
   "metadata": {},
   "outputs": [],
   "source": []
  }
 ],
 "metadata": {
  "kernelspec": {
   "display_name": "Python 3 (ipykernel)",
   "language": "python",
   "name": "python3"
  },
  "language_info": {
   "codemirror_mode": {
    "name": "ipython",
    "version": 3
   },
   "file_extension": ".py",
   "mimetype": "text/x-python",
   "name": "python",
   "nbconvert_exporter": "python",
   "pygments_lexer": "ipython3",
   "version": "3.13.3"
  }
 },
 "nbformat": 4,
 "nbformat_minor": 5
}
