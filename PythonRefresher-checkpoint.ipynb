{
 "cells": [
  {
   "cell_type": "markdown",
   "id": "1bf55dc2-ce69-4867-80e5-7aee19d818ba",
   "metadata": {},
   "source": [
    "# Python Types"
   ]
  },
  {
   "cell_type": "markdown",
   "id": "b18328b2-cacb-45da-a832-ff5f25f5b6e0",
   "metadata": {},
   "source": [
    "## Integer Value"
   ]
  },
  {
   "cell_type": "code",
   "execution_count": 1,
   "id": "f67ccd37-55e3-45cc-84b4-a40aa2aee511",
   "metadata": {},
   "outputs": [],
   "source": [
    "stock_price = 100"
   ]
  },
  {
   "cell_type": "code",
   "execution_count": 2,
   "id": "ae7c8992-e0da-45fd-88ec-8fb53061a6aa",
   "metadata": {},
   "outputs": [
    {
     "data": {
      "text/plain": [
       "100"
      ]
     },
     "execution_count": 2,
     "metadata": {},
     "output_type": "execute_result"
    }
   ],
   "source": [
    "stock_price # Note this is printing it straight to the console"
   ]
  },
  {
   "cell_type": "code",
   "execution_count": 3,
   "id": "f9d2320d-969c-402b-ab8c-18e9c5dc2d73",
   "metadata": {},
   "outputs": [
    {
     "name": "stdout",
     "output_type": "stream",
     "text": [
      "100\n"
     ]
    }
   ],
   "source": [
    "print(stock_price)"
   ]
  },
  {
   "cell_type": "markdown",
   "id": "77db48b3-49e0-4cd4-a406-1191c0d8ef38",
   "metadata": {},
   "source": [
    "## Float Value"
   ]
  },
  {
   "cell_type": "code",
   "execution_count": 5,
   "id": "71085716-8520-41a9-9997-520930a8cc4e",
   "metadata": {},
   "outputs": [],
   "source": [
    "stock_price2 = 100.55"
   ]
  },
  {
   "cell_type": "code",
   "execution_count": 6,
   "id": "9fe36e21-227d-406a-b64c-64f42e28dd49",
   "metadata": {},
   "outputs": [
    {
     "data": {
      "text/plain": [
       "100.55"
      ]
     },
     "execution_count": 6,
     "metadata": {},
     "output_type": "execute_result"
    }
   ],
   "source": [
    "stock_price2"
   ]
  },
  {
   "cell_type": "markdown",
   "id": "3e302b07-27f7-418f-8a08-270911b4e721",
   "metadata": {},
   "source": [
    "## String"
   ]
  },
  {
   "cell_type": "code",
   "execution_count": 7,
   "id": "8fa3ed02-9abb-4703-80c8-7cdc82136bc9",
   "metadata": {},
   "outputs": [],
   "source": [
    "stock_ticker = \"AAPL\""
   ]
  },
  {
   "cell_type": "code",
   "execution_count": 8,
   "id": "217e5c35-447d-47e7-b910-c845c26b457b",
   "metadata": {},
   "outputs": [
    {
     "name": "stdout",
     "output_type": "stream",
     "text": [
      "AAPL\n"
     ]
    }
   ],
   "source": [
    "print(stock_ticker)"
   ]
  },
  {
   "cell_type": "markdown",
   "id": "6d1ed45f-fe5f-4ea0-8f3d-cb7bfa1cb13c",
   "metadata": {},
   "source": [
    "## Booleans"
   ]
  },
  {
   "cell_type": "code",
   "execution_count": 9,
   "id": "183ab5bb-4656-48f0-89c3-9fd5fa7cda11",
   "metadata": {},
   "outputs": [],
   "source": [
    "stock_buy = True"
   ]
  },
  {
   "cell_type": "code",
   "execution_count": 10,
   "id": "55c2e8c4-689a-4ea4-9957-01385027c8bb",
   "metadata": {},
   "outputs": [
    {
     "name": "stdout",
     "output_type": "stream",
     "text": [
      "True\n"
     ]
    }
   ],
   "source": [
    "print(stock_buy)"
   ]
  },
  {
   "cell_type": "markdown",
   "id": "05780d33-921c-4d6b-87c0-aba8f820947b",
   "metadata": {},
   "source": [
    "## Primitive Variable Operations"
   ]
  },
  {
   "cell_type": "markdown",
   "id": "5aa39e3f-7d21-49b4-af73-c097944c5aaa",
   "metadata": {},
   "source": [
    "### Numeric"
   ]
  },
  {
   "cell_type": "code",
   "execution_count": 11,
   "id": "ca646091-6e76-4d38-9296-bcf312f9eec2",
   "metadata": {},
   "outputs": [
    {
     "data": {
      "text/plain": [
       "200"
      ]
     },
     "execution_count": 11,
     "metadata": {},
     "output_type": "execute_result"
    }
   ],
   "source": [
    "100+100\n"
   ]
  },
  {
   "cell_type": "code",
   "execution_count": 12,
   "id": "1dd6ca11-2833-4974-a476-daaf30e42bd4",
   "metadata": {},
   "outputs": [
    {
     "data": {
      "text/plain": [
       "0"
      ]
     },
     "execution_count": 12,
     "metadata": {},
     "output_type": "execute_result"
    }
   ],
   "source": [
    "100-100"
   ]
  },
  {
   "cell_type": "code",
   "execution_count": 13,
   "id": "d5785466-8eb8-4a40-a3e5-0ce5259e1137",
   "metadata": {},
   "outputs": [],
   "source": [
    "#eg:"
   ]
  },
  {
   "cell_type": "code",
   "execution_count": 14,
   "id": "1233b4af-c402-4422-9ca2-f290aa7a14d3",
   "metadata": {},
   "outputs": [
    {
     "data": {
      "text/plain": [
       "200"
      ]
     },
     "execution_count": 14,
     "metadata": {},
     "output_type": "execute_result"
    }
   ],
   "source": [
    "stock_price * 2"
   ]
  },
  {
   "cell_type": "code",
   "execution_count": 16,
   "id": "d8eb0675-6fcb-4c1c-ab3f-b52f09bf5941",
   "metadata": {},
   "outputs": [],
   "source": [
    "#because the variable is == to 100, so * 2 = 200."
   ]
  },
  {
   "cell_type": "markdown",
   "id": "a604b7bb-9bf3-4d45-bef7-c03ea8e24025",
   "metadata": {},
   "source": [
    "### Strings"
   ]
  },
  {
   "cell_type": "code",
   "execution_count": 17,
   "id": "c1d0d53c-acf1-48b8-8a27-245dd37688fb",
   "metadata": {},
   "outputs": [
    {
     "data": {
      "text/plain": [
       "'AAPLAAPLAAPLAAPLAAPLAAPLAAPLAAPLAAPLAAPL'"
      ]
     },
     "execution_count": 17,
     "metadata": {},
     "output_type": "execute_result"
    }
   ],
   "source": [
    "\"AAPL\" * 10"
   ]
  },
  {
   "cell_type": "code",
   "execution_count": 18,
   "id": "1126519f-f096-42c9-b23b-3ba866fecc26",
   "metadata": {},
   "outputs": [
    {
     "data": {
      "text/plain": [
       "'AAPLDog'"
      ]
     },
     "execution_count": 18,
     "metadata": {},
     "output_type": "execute_result"
    }
   ],
   "source": [
    "\"AAPL\" + \"Dog\""
   ]
  },
  {
   "cell_type": "code",
   "execution_count": 19,
   "id": "e66c9149-9262-4ee3-9965-63cf2cc0ecae",
   "metadata": {},
   "outputs": [],
   "source": [
    "#etc"
   ]
  },
  {
   "cell_type": "markdown",
   "id": "b706c731-adf1-4290-bd4c-57155e5bec97",
   "metadata": {},
   "source": [
    "## Typecasting"
   ]
  },
  {
   "cell_type": "code",
   "execution_count": 20,
   "id": "ce117c7d-fcd4-43ed-8e53-3388d4cdc19a",
   "metadata": {},
   "outputs": [],
   "source": [
    "#eg"
   ]
  },
  {
   "cell_type": "markdown",
   "id": "6fef2e9e-1261-46d4-ba28-989d38b9f5f3",
   "metadata": {},
   "source": [
    "stock_price + \"AAPL\" --> cannot turn AAPL into an integer value"
   ]
  },
  {
   "cell_type": "code",
   "execution_count": 23,
   "id": "6bff3b60-c03a-40c4-b7a4-6c069e6837e4",
   "metadata": {},
   "outputs": [],
   "source": [
    "#eg"
   ]
  },
  {
   "cell_type": "code",
   "execution_count": 24,
   "id": "5a4965fc-7171-433b-bd1e-487c6e252a50",
   "metadata": {},
   "outputs": [
    {
     "data": {
      "text/plain": [
       "'AAPL100'"
      ]
     },
     "execution_count": 24,
     "metadata": {},
     "output_type": "execute_result"
    }
   ],
   "source": [
    "stock_ticker + str(stock_price)"
   ]
  },
  {
   "cell_type": "markdown",
   "id": "a6362f9b-b587-4beb-bc2b-4fcbb073810c",
   "metadata": {},
   "source": [
    "Here we turned the integer value 100 into a string value of 100"
   ]
  },
  {
   "cell_type": "markdown",
   "id": "8c9ffada-1b20-40ed-9870-92fdc44ff0c9",
   "metadata": {},
   "source": [
    "### Values of Typecasting"
   ]
  },
  {
   "cell_type": "code",
   "execution_count": 25,
   "id": "0836cf42-f736-4ded-b1f1-fdf1fe0b51b1",
   "metadata": {},
   "outputs": [
    {
     "data": {
      "text/plain": [
       "''"
      ]
     },
     "execution_count": 25,
     "metadata": {},
     "output_type": "execute_result"
    }
   ],
   "source": [
    "str()"
   ]
  },
  {
   "cell_type": "code",
   "execution_count": 26,
   "id": "30edf153-c605-4dfb-bb5d-43cd38b7ffec",
   "metadata": {},
   "outputs": [
    {
     "data": {
      "text/plain": [
       "0"
      ]
     },
     "execution_count": 26,
     "metadata": {},
     "output_type": "execute_result"
    }
   ],
   "source": [
    "int()"
   ]
  },
  {
   "cell_type": "code",
   "execution_count": 27,
   "id": "5345571e-c2f6-4dc0-946d-c84938238da4",
   "metadata": {},
   "outputs": [
    {
     "data": {
      "text/plain": [
       "0.0"
      ]
     },
     "execution_count": 27,
     "metadata": {},
     "output_type": "execute_result"
    }
   ],
   "source": [
    "float()"
   ]
  },
  {
   "cell_type": "code",
   "execution_count": 28,
   "id": "82c19529-7485-45a5-9b14-ebb80bb0c636",
   "metadata": {},
   "outputs": [
    {
     "data": {
      "text/plain": [
       "False"
      ]
     },
     "execution_count": 28,
     "metadata": {},
     "output_type": "execute_result"
    }
   ],
   "source": [
    "bool()"
   ]
  },
  {
   "cell_type": "code",
   "execution_count": 30,
   "id": "41a75537-61f8-41c8-8a7c-b0461cb1dac9",
   "metadata": {},
   "outputs": [],
   "source": [
    "#eg"
   ]
  },
  {
   "cell_type": "code",
   "execution_count": 31,
   "id": "30467525-be96-49c6-bb99-e3e0ef3a3fb2",
   "metadata": {},
   "outputs": [
    {
     "data": {
      "text/plain": [
       "'100100.55'"
      ]
     },
     "execution_count": 31,
     "metadata": {},
     "output_type": "execute_result"
    }
   ],
   "source": [
    "str(stock_price) + str(stock_price2)"
   ]
  },
  {
   "cell_type": "markdown",
   "id": "cd82fe3c-e3e5-4dd8-a31e-072543ee6fa4",
   "metadata": {},
   "source": [
    "we turned both values of integers stock_price and stock_price2 into string values and also concatenated them"
   ]
  },
  {
   "cell_type": "code",
   "execution_count": 32,
   "id": "ab48b7df-9629-4cff-9a52-497b09282ef9",
   "metadata": {},
   "outputs": [],
   "source": [
    "#eg"
   ]
  },
  {
   "cell_type": "code",
   "execution_count": 33,
   "id": "ee809180-cb47-4ee3-ade1-f12d12b5fa58",
   "metadata": {},
   "outputs": [
    {
     "data": {
      "text/plain": [
       "100"
      ]
     },
     "execution_count": 33,
     "metadata": {},
     "output_type": "execute_result"
    }
   ],
   "source": [
    "int(stock_price2)"
   ]
  },
  {
   "cell_type": "markdown",
   "id": "13e74af1-0c6d-461e-ab21-79ef830815d8",
   "metadata": {},
   "source": [
    "normally if we just called the variable stock_price2 we would get out 100.55, but because we turned it into an integer it removes the decimal values"
   ]
  },
  {
   "cell_type": "markdown",
   "id": "fbc9856e-23a3-417c-b8af-2b32c5358d2e",
   "metadata": {},
   "source": [
    "## Modifying Variables\n"
   ]
  },
  {
   "cell_type": "code",
   "execution_count": 63,
   "id": "0115a627-32e4-4bce-83ca-1c3bc0b508d8",
   "metadata": {},
   "outputs": [],
   "source": [
    "stock_price = 100"
   ]
  },
  {
   "cell_type": "code",
   "execution_count": 64,
   "id": "749a9b44-f5b2-43ea-8966-00417335718c",
   "metadata": {},
   "outputs": [
    {
     "name": "stdout",
     "output_type": "stream",
     "text": [
      "100\n"
     ]
    }
   ],
   "source": [
    "print(stock_price)"
   ]
  },
  {
   "cell_type": "code",
   "execution_count": 65,
   "id": "7ea735f8-8a10-46d2-9fbf-328c88886e5c",
   "metadata": {},
   "outputs": [],
   "source": [
    "stock_price3 = stock_price"
   ]
  },
  {
   "cell_type": "code",
   "execution_count": 66,
   "id": "00270faa-6fda-4e6e-aff3-61e0f1ce9187",
   "metadata": {},
   "outputs": [
    {
     "name": "stdout",
     "output_type": "stream",
     "text": [
      "100\n"
     ]
    }
   ],
   "source": [
    "print(stock_price3)"
   ]
  },
  {
   "cell_type": "code",
   "execution_count": 67,
   "id": "2cf0fa80-7cf4-4aff-9e54-dde98e9c2f8f",
   "metadata": {},
   "outputs": [],
   "source": [
    "stock_price += 10"
   ]
  },
  {
   "cell_type": "code",
   "execution_count": 68,
   "id": "e88b7ab3-8937-41ad-aed5-e38e7d9564db",
   "metadata": {},
   "outputs": [
    {
     "name": "stdout",
     "output_type": "stream",
     "text": [
      "110\n"
     ]
    }
   ],
   "source": [
    "print(stock_price)"
   ]
  },
  {
   "cell_type": "code",
   "execution_count": 69,
   "id": "602dd284-9528-4572-be13-b7a09269c865",
   "metadata": {},
   "outputs": [
    {
     "name": "stdout",
     "output_type": "stream",
     "text": [
      "100\n"
     ]
    }
   ],
   "source": [
    "print(stock_price3)"
   ]
  },
  {
   "cell_type": "markdown",
   "id": "4eb93edc-e472-4342-bb87-b5bba32a59f1",
   "metadata": {},
   "source": [
    "This is known as pass by value"
   ]
  },
  {
   "cell_type": "markdown",
   "id": "d3b07e81-6444-4061-b145-a446c565c9c7",
   "metadata": {},
   "source": [
    "because stock_price3 was referenced before the value change, it still only will output the previous value of stock_price"
   ]
  },
  {
   "cell_type": "markdown",
   "id": "e6e6317f-9b0a-47d2-a7c9-5eef6701338e",
   "metadata": {},
   "source": [
    "### Variable modification"
   ]
  },
  {
   "cell_type": "code",
   "execution_count": 70,
   "id": "01610849-a7fc-432d-9224-2c9c90396c62",
   "metadata": {},
   "outputs": [
    {
     "name": "stdout",
     "output_type": "stream",
     "text": [
      "100\n"
     ]
    }
   ],
   "source": [
    "print(stock_price3)"
   ]
  },
  {
   "cell_type": "code",
   "execution_count": 92,
   "id": "3b65d60c-9daa-432b-b2bc-e5d934316aa3",
   "metadata": {},
   "outputs": [
    {
     "data": {
      "text/plain": [
       "11000"
      ]
     },
     "execution_count": 92,
     "metadata": {},
     "output_type": "execute_result"
    }
   ],
   "source": [
    "stock_price * 100"
   ]
  },
  {
   "cell_type": "markdown",
   "id": "ffff9f27-f502-458c-a68b-6ce68f272346",
   "metadata": {},
   "source": [
    "### Combining Operations"
   ]
  },
  {
   "cell_type": "code",
   "execution_count": 72,
   "id": "e63355d0-c8b6-4602-b07c-96da4cf629be",
   "metadata": {},
   "outputs": [
    {
     "data": {
      "text/plain": [
       "0.4"
      ]
     },
     "execution_count": 72,
     "metadata": {},
     "output_type": "execute_result"
    }
   ],
   "source": [
    "10/5/5"
   ]
  },
  {
   "cell_type": "markdown",
   "id": "e8800a46-c9c6-4328-9b7d-c645a731dd8f",
   "metadata": {},
   "source": [
    "this is 10 / 5, then dividing that output by 5 again."
   ]
  },
  {
   "cell_type": "markdown",
   "id": "e72556be-cc76-40b1-a311-073cdf77dd32",
   "metadata": {},
   "source": [
    "make sure you have parenthesis and wrap everything so order of operations works, eg:"
   ]
  },
  {
   "cell_type": "code",
   "execution_count": 73,
   "id": "476b5467-22f4-4600-a485-73d67f6fe535",
   "metadata": {},
   "outputs": [
    {
     "data": {
      "text/plain": [
       "35"
      ]
     },
     "execution_count": 73,
     "metadata": {},
     "output_type": "execute_result"
    }
   ],
   "source": [
    "10 + (5*5)"
   ]
  },
  {
   "cell_type": "markdown",
   "id": "6533a1d2-f3e9-4ec5-8191-b047f6f3ad99",
   "metadata": {},
   "source": [
    "## Lists, Sets, Dictionaries"
   ]
  },
  {
   "cell_type": "markdown",
   "id": "17839b3e-9734-4b48-b14a-45bb3e4c0df9",
   "metadata": {},
   "source": [
    "### Lists"
   ]
  },
  {
   "cell_type": "markdown",
   "id": "db4ce143-1374-46be-9868-ffeb6efb018c",
   "metadata": {},
   "source": [
    "Lists are 'Type Agnostic'"
   ]
  },
  {
   "cell_type": "code",
   "execution_count": 79,
   "id": "d5aab437-ff55-44d1-b2fb-e0415752a81d",
   "metadata": {},
   "outputs": [],
   "source": [
    "stock_prices = [100, 200, 205, 210, 3000, \"House\", \"Dog\", True]"
   ]
  },
  {
   "cell_type": "code",
   "execution_count": 80,
   "id": "085e9e9f-b0f6-47a6-a161-bbe65258958e",
   "metadata": {},
   "outputs": [
    {
     "name": "stdout",
     "output_type": "stream",
     "text": [
      "[100, 200, 205, 210, 3000, 'House', 'Dog', True]\n"
     ]
    }
   ],
   "source": [
    "print(stock_prices)"
   ]
  },
  {
   "cell_type": "code",
   "execution_count": 82,
   "id": "42455fb4-43b7-4e4e-b988-2321b605839b",
   "metadata": {},
   "outputs": [
    {
     "name": "stdout",
     "output_type": "stream",
     "text": [
      "Dog\n"
     ]
    }
   ],
   "source": [
    "print(stock_prices[6])"
   ]
  },
  {
   "cell_type": "markdown",
   "id": "d55bc715-4920-4553-9d2a-bcefb7f1dfa3",
   "metadata": {},
   "source": [
    "Here we indexed a specific value of the list --> position 6 = Dog"
   ]
  },
  {
   "cell_type": "markdown",
   "id": "5747be2d-e344-4690-bcd7-382420406410",
   "metadata": {},
   "source": [
    "### Slice notaton, for accessing a portion of the list"
   ]
  },
  {
   "cell_type": "code",
   "execution_count": 83,
   "id": "03a55300-2148-42a0-8b51-0b4aafa86d63",
   "metadata": {},
   "outputs": [
    {
     "name": "stdout",
     "output_type": "stream",
     "text": [
      "[200, 205]\n"
     ]
    }
   ],
   "source": [
    "print(stock_prices[1:3])"
   ]
  },
  {
   "cell_type": "markdown",
   "id": "270b3637-7951-4381-b7e7-5f09f9b1aeb7",
   "metadata": {},
   "source": [
    "This says, start at index 1 and grab index until index (not including) 3."
   ]
  },
  {
   "cell_type": "code",
   "execution_count": 84,
   "id": "11dbcb75-3dd6-495b-8737-b24b434c67b8",
   "metadata": {},
   "outputs": [
    {
     "name": "stdout",
     "output_type": "stream",
     "text": [
      "[205, 210, 3000, 'House', 'Dog', True]\n"
     ]
    }
   ],
   "source": [
    "print(stock_prices[2:])"
   ]
  },
  {
   "cell_type": "markdown",
   "id": "04727258-8f9c-419f-9877-b18adaf2cfdb",
   "metadata": {},
   "source": [
    "This says start at index 2, and grab every value passed that in the list until the list is done."
   ]
  },
  {
   "cell_type": "markdown",
   "id": "b0a718c9-c1e3-4a66-9857-ee264dc3e2c1",
   "metadata": {},
   "source": [
    "Slice notation can also be used for strings, Eg:"
   ]
  },
  {
   "cell_type": "code",
   "execution_count": 86,
   "id": "4a81fb43-87f4-442e-a689-9c609bca3811",
   "metadata": {},
   "outputs": [
    {
     "name": "stdout",
     "output_type": "stream",
     "text": [
      "AAPL\n"
     ]
    }
   ],
   "source": [
    "print(stock_ticker)"
   ]
  },
  {
   "cell_type": "code",
   "execution_count": 89,
   "id": "3aa603df-20b0-4457-b25f-63a07726931d",
   "metadata": {},
   "outputs": [
    {
     "name": "stdout",
     "output_type": "stream",
     "text": [
      "AAP\n"
     ]
    }
   ],
   "source": [
    "print(stock_ticker[:3])"
   ]
  },
  {
   "cell_type": "markdown",
   "id": "7734a237-543c-4aa9-b721-39c4a0d29ac6",
   "metadata": {},
   "source": [
    "### Sets"
   ]
  },
  {
   "cell_type": "code",
   "execution_count": 90,
   "id": "9703a1f5-a2e9-4c82-ada3-b722340a2f3e",
   "metadata": {},
   "outputs": [],
   "source": [
    "list_1 = [stock_price, stock_price2, stock_price3, stock_price]"
   ]
  },
  {
   "cell_type": "code",
   "execution_count": 93,
   "id": "d137a047-0e90-40ab-8c60-01c4479eea87",
   "metadata": {},
   "outputs": [
    {
     "name": "stdout",
     "output_type": "stream",
     "text": [
      "[110, 100.55, 100, 110]\n"
     ]
    }
   ],
   "source": [
    "print(list_1)"
   ]
  },
  {
   "cell_type": "markdown",
   "id": "d7866de2-f855-4005-824d-986195c021bb",
   "metadata": {},
   "source": [
    "converting the list to a set:"
   ]
  },
  {
   "cell_type": "code",
   "execution_count": 94,
   "id": "ddd0bd25-b191-41cf-911c-b505299e8185",
   "metadata": {
    "scrolled": true
   },
   "outputs": [
    {
     "data": {
      "text/plain": [
       "{100, 100.55, 110}"
      ]
     },
     "execution_count": 94,
     "metadata": {},
     "output_type": "execute_result"
    }
   ],
   "source": [
    "set(list_1)"
   ]
  },
  {
   "cell_type": "markdown",
   "id": "e8cc4f6b-f529-4024-a02d-5a10dea06cbb",
   "metadata": {},
   "source": [
    "Sets remove duplicates, but does not order specfically although it may seem it does."
   ]
  },
  {
   "cell_type": "code",
   "execution_count": 96,
   "id": "9dca9354-4249-4bdd-a24d-0d8c64c8e782",
   "metadata": {},
   "outputs": [],
   "source": [
    "tickers = [\"AAPL\", \"AMZN\", \"GOOG\", \"AAPL\", \"AMZN\"]"
   ]
  },
  {
   "cell_type": "code",
   "execution_count": 97,
   "id": "0d699b40-d01a-407b-9f69-0db926462704",
   "metadata": {},
   "outputs": [
    {
     "name": "stdout",
     "output_type": "stream",
     "text": [
      "['AAPL', 'AMZN', 'GOOG', 'AAPL', 'AMZN']\n"
     ]
    }
   ],
   "source": [
    "print(tickers)"
   ]
  },
  {
   "cell_type": "markdown",
   "id": "eade3a6e-0764-4bae-9438-cd4aa493b9b1",
   "metadata": {},
   "source": [
    "The above is a list, where as we are now going to make a set:"
   ]
  },
  {
   "cell_type": "code",
   "execution_count": 98,
   "id": "60c8cbb5-1277-49fd-bd58-7118b8069bb7",
   "metadata": {},
   "outputs": [
    {
     "data": {
      "text/plain": [
       "{'AAPL', 'AMZN', 'GOOG'}"
      ]
     },
     "execution_count": 98,
     "metadata": {},
     "output_type": "execute_result"
    }
   ],
   "source": [
    "set(tickers)"
   ]
  },
  {
   "cell_type": "markdown",
   "id": "d79a9008-16fa-45df-bf67-096d053baaf2",
   "metadata": {},
   "source": [
    "### Dictionaries"
   ]
  },
  {
   "cell_type": "markdown",
   "id": "803a28fc-a446-4332-8965-30d1b94870cb",
   "metadata": {},
   "source": [
    "The backbone of pretty much any data set.\n",
    "Essentially taking a 'key' and looking to retrieve a 'value' an example would be a Ticker to Stock Price 'map':"
   ]
  },
  {
   "cell_type": "code",
   "execution_count": 100,
   "id": "612c4a07-e9c6-40b9-996b-48bc638bca20",
   "metadata": {},
   "outputs": [],
   "source": [
    "dict_tickers = {\"AAPL\" : 150, \"GOOG\" : 2000}"
   ]
  },
  {
   "cell_type": "code",
   "execution_count": 102,
   "id": "dc7b0d58-3c31-4972-aea7-a8f2bd61dcb8",
   "metadata": {},
   "outputs": [
    {
     "name": "stdout",
     "output_type": "stream",
     "text": [
      "150\n"
     ]
    }
   ],
   "source": [
    "print(dict_tickers[\"AAPL\"])"
   ]
  },
  {
   "cell_type": "markdown",
   "id": "6b039167-2ba6-4fac-9bd1-83490ae0ba55",
   "metadata": {},
   "source": [
    "APPL is the \"Key\" and the \"Value\" is 150. Also notice to create the dict we use {} and to call it we use []"
   ]
  },
  {
   "cell_type": "code",
   "execution_count": 104,
   "id": "89db90fd-c958-486b-908e-33f82efbd00d",
   "metadata": {},
   "outputs": [
    {
     "name": "stdout",
     "output_type": "stream",
     "text": [
      "2000\n"
     ]
    }
   ],
   "source": [
    "print(dict_tickers[\"GOOG\"])"
   ]
  },
  {
   "cell_type": "markdown",
   "id": "336230cd-199f-435f-9317-6676776e95e4",
   "metadata": {},
   "source": [
    "# Lists, Set, and Dictionary Operations"
   ]
  },
  {
   "cell_type": "markdown",
   "id": "927a3aac-7880-40af-8f68-78c38dfe1f17",
   "metadata": {},
   "source": [
    "## Lists"
   ]
  },
  {
   "cell_type": "code",
   "execution_count": 105,
   "id": "7466c217-822c-40a6-9979-9cfe4c2571e7",
   "metadata": {},
   "outputs": [],
   "source": [
    "list_2 = [100,200,300,400]"
   ]
  },
  {
   "cell_type": "code",
   "execution_count": 106,
   "id": "05020bcf-4c25-401a-a603-759490eafb0a",
   "metadata": {},
   "outputs": [
    {
     "name": "stdout",
     "output_type": "stream",
     "text": [
      "[100, 200, 300, 400]\n"
     ]
    }
   ],
   "source": [
    "print(list_2)"
   ]
  },
  {
   "cell_type": "code",
   "execution_count": 107,
   "id": "20ec7492-3aba-4e2d-a4a6-70d675406277",
   "metadata": {},
   "outputs": [
    {
     "data": {
      "text/plain": [
       "list"
      ]
     },
     "execution_count": 107,
     "metadata": {},
     "output_type": "execute_result"
    }
   ],
   "source": [
    "type(list_2)"
   ]
  },
  {
   "cell_type": "code",
   "execution_count": 108,
   "id": "78b5e154-58af-4316-829d-7df73cf0c23b",
   "metadata": {},
   "outputs": [],
   "source": [
    "list_2.append(500)"
   ]
  },
  {
   "cell_type": "code",
   "execution_count": 109,
   "id": "245751ce-33ee-40d3-b1e8-a102a62807ab",
   "metadata": {},
   "outputs": [
    {
     "name": "stdout",
     "output_type": "stream",
     "text": [
      "[100, 200, 300, 400, 500]\n"
     ]
    }
   ],
   "source": [
    "print(list_2)"
   ]
  },
  {
   "cell_type": "markdown",
   "id": "dfc875ad-e234-42a1-8a2b-fdfab9e171c3",
   "metadata": {},
   "source": [
    "Notice with 'append' we added the value 500 to the list.  You can also do algebra to lists, eg: multiplication, addition etc."
   ]
  },
  {
   "cell_type": "markdown",
   "id": "41f2b8fa-1e9f-4d05-8e81-3415e2d34e31",
   "metadata": {},
   "source": [
    "## Sets"
   ]
  },
  {
   "cell_type": "code",
   "execution_count": 110,
   "id": "d9615ca7-69bf-42c1-a49c-069569cdda27",
   "metadata": {},
   "outputs": [],
   "source": [
    "dataset_1_tickers = set([\"AAPL\", \"AMZN\", \"GOOG\"])"
   ]
  },
  {
   "cell_type": "code",
   "execution_count": 112,
   "id": "063ca63e-6c8b-4ebd-b068-1ebdf1720b71",
   "metadata": {},
   "outputs": [],
   "source": [
    "dataset_2_tickers = set([\"AAPL\", \"AMZN\", \"TSLA\"])"
   ]
  },
  {
   "cell_type": "code",
   "execution_count": 113,
   "id": "6e5b5676-23a7-4494-9113-c46f00c2a620",
   "metadata": {},
   "outputs": [
    {
     "name": "stdout",
     "output_type": "stream",
     "text": [
      "{'AMZN', 'GOOG', 'AAPL'}\n"
     ]
    }
   ],
   "source": [
    "print(dataset_1_tickers)"
   ]
  },
  {
   "cell_type": "code",
   "execution_count": 114,
   "id": "5a741902-6084-4af2-a732-e5664d5aece3",
   "metadata": {},
   "outputs": [
    {
     "name": "stdout",
     "output_type": "stream",
     "text": [
      "{'TSLA', 'AMZN', 'AAPL'}\n"
     ]
    }
   ],
   "source": [
    "print(dataset_2_tickers)"
   ]
  },
  {
   "cell_type": "markdown",
   "id": "839c4f64-23e9-4247-82dd-6003ab6f7ecd",
   "metadata": {},
   "source": [
    "Lets find the intersection (think probability where intersection means both sets have that specific value)."
   ]
  },
  {
   "cell_type": "code",
   "execution_count": 116,
   "id": "459e5d30-cccb-40db-8052-9c5de57ea619",
   "metadata": {},
   "outputs": [
    {
     "data": {
      "text/plain": [
       "{'AAPL', 'AMZN'}"
      ]
     },
     "execution_count": 116,
     "metadata": {},
     "output_type": "execute_result"
    }
   ],
   "source": [
    "dataset_1_tickers.intersection(dataset_2_tickers)"
   ]
  },
  {
   "cell_type": "markdown",
   "id": "d3dd32e4-bc9e-4acd-930c-07f65694b3c4",
   "metadata": {},
   "source": [
    "Therefore both AAPL and AMZN overlap in both sets of dataset_1_tickers and dataset_2_tickers."
   ]
  },
  {
   "cell_type": "markdown",
   "id": "fb37ff99-bd0d-4efe-9127-6f502700a16a",
   "metadata": {},
   "source": [
    "## Dictionaries"
   ]
  },
  {
   "cell_type": "code",
   "execution_count": 117,
   "id": "d2b31cff-a764-4bba-8b1c-27bcbcd39a0a",
   "metadata": {},
   "outputs": [],
   "source": [
    "ticker_map = {\"AAPL\" : \"Apple\", \"GOOG\" : \"Google\", \"AMZN\" : \"Amazon\"}"
   ]
  },
  {
   "cell_type": "code",
   "execution_count": 118,
   "id": "b2936fa0-4952-4ec5-9ef9-860b98df8e83",
   "metadata": {},
   "outputs": [
    {
     "name": "stdout",
     "output_type": "stream",
     "text": [
      "Apple\n"
     ]
    }
   ],
   "source": [
    "print(ticker_map[\"AAPL\"])"
   ]
  },
  {
   "cell_type": "markdown",
   "id": "29ece212-5f40-43bd-8d90-982ac3d5c7f7",
   "metadata": {},
   "source": [
    "Can use the \"Values\" to map to the \"Keys\" OR we can use the \"Keys\" to get the \"Values\"."
   ]
  },
  {
   "cell_type": "code",
   "execution_count": 120,
   "id": "b2bc1796-cecb-4c74-88e0-12c000f25531",
   "metadata": {},
   "outputs": [
    {
     "name": "stdout",
     "output_type": "stream",
     "text": [
      "dict_keys(['AAPL', 'GOOG', 'AMZN'])\n"
     ]
    }
   ],
   "source": [
    "print(ticker_map.keys())"
   ]
  },
  {
   "cell_type": "code",
   "execution_count": 121,
   "id": "ea561d20-7341-4fa4-844e-2bc3965e5e31",
   "metadata": {},
   "outputs": [
    {
     "name": "stdout",
     "output_type": "stream",
     "text": [
      "dict_values(['Apple', 'Google', 'Amazon'])\n"
     ]
    }
   ],
   "source": [
    "print(ticker_map.values())"
   ]
  },
  {
   "cell_type": "code",
   "execution_count": null,
   "id": "6b19bb0f-183f-45ad-95b0-598f0348b4b5",
   "metadata": {},
   "outputs": [],
   "source": []
  },
  {
   "cell_type": "code",
   "execution_count": null,
   "id": "62cd2275-6dcc-49ba-8e01-03b980480c3b",
   "metadata": {},
   "outputs": [],
   "source": []
  }
 ],
 "metadata": {
  "kernelspec": {
   "display_name": "Python 3 (ipykernel)",
   "language": "python",
   "name": "python3"
  },
  "language_info": {
   "codemirror_mode": {
    "name": "ipython",
    "version": 3
   },
   "file_extension": ".py",
   "mimetype": "text/x-python",
   "name": "python",
   "nbconvert_exporter": "python",
   "pygments_lexer": "ipython3",
   "version": "3.13.3"
  }
 },
 "nbformat": 4,
 "nbformat_minor": 5
}
